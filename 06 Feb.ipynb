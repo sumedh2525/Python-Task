{
 "cells": [
  {
   "cell_type": "code",
   "execution_count": 1,
   "id": "f7fbdd87-3137-4a31-8d3e-dbaa28ab683a",
   "metadata": {},
   "outputs": [
    {
     "ename": "AttributeError",
     "evalue": "'list' object has no attribute 'values'",
     "output_type": "error",
     "traceback": [
      "\u001b[0;31m---------------------------------------------------------------------------\u001b[0m",
      "\u001b[0;31mAttributeError\u001b[0m                            Traceback (most recent call last)",
      "Cell \u001b[0;32mIn[1], line 12\u001b[0m\n\u001b[1;32m      1\u001b[0m \u001b[38;5;66;03m#  Q1. Create a function which will take a list as an argument and return the product of all the numbers\u001b[39;00m\n\u001b[1;32m      2\u001b[0m \u001b[38;5;66;03m#  after creating a flat list.\u001b[39;00m\n\u001b[1;32m      3\u001b[0m \u001b[38;5;66;03m#  Use the below-given list as an argument for your function.\u001b[39;00m\n\u001b[1;32m      4\u001b[0m \u001b[38;5;66;03m#  list1 = [1,2,3,4, [44,55,66, True], False, (34,56,78,89,34), {1,2,3,3,2,1}, {1:34, \"key2\": [55, 67, 78, 89], 4: (45,\u001b[39;00m\n\u001b[1;32m      5\u001b[0m \u001b[38;5;66;03m#  22, 61, 34)}, [56, 'data science'], 'Machine Learning']\u001b[39;00m\n\u001b[1;32m      9\u001b[0m list1 \u001b[38;5;241m=\u001b[39m [\u001b[38;5;241m1\u001b[39m,\u001b[38;5;241m2\u001b[39m,\u001b[38;5;241m3\u001b[39m,\u001b[38;5;241m4\u001b[39m, [\u001b[38;5;241m44\u001b[39m,\u001b[38;5;241m55\u001b[39m,\u001b[38;5;241m66\u001b[39m, \u001b[38;5;28;01mTrue\u001b[39;00m], \u001b[38;5;28;01mFalse\u001b[39;00m, (\u001b[38;5;241m34\u001b[39m,\u001b[38;5;241m56\u001b[39m,\u001b[38;5;241m78\u001b[39m,\u001b[38;5;241m89\u001b[39m,\u001b[38;5;241m34\u001b[39m), {\u001b[38;5;241m1\u001b[39m,\u001b[38;5;241m2\u001b[39m,\u001b[38;5;241m3\u001b[39m,\u001b[38;5;241m3\u001b[39m,\u001b[38;5;241m2\u001b[39m,\u001b[38;5;241m1\u001b[39m}, {\u001b[38;5;241m1\u001b[39m:\u001b[38;5;241m34\u001b[39m, \u001b[38;5;124m\"\u001b[39m\u001b[38;5;124mkey2\u001b[39m\u001b[38;5;124m\"\u001b[39m: [\u001b[38;5;241m55\u001b[39m, \u001b[38;5;241m67\u001b[39m, \u001b[38;5;241m78\u001b[39m, \u001b[38;5;241m89\u001b[39m], \u001b[38;5;241m4\u001b[39m: (\u001b[38;5;241m45\u001b[39m,\n\u001b[1;32m     10\u001b[0m \u001b[38;5;241m22\u001b[39m, \u001b[38;5;241m61\u001b[39m, \u001b[38;5;241m34\u001b[39m)}, [\u001b[38;5;241m56\u001b[39m, \u001b[38;5;124m'\u001b[39m\u001b[38;5;124mdata science\u001b[39m\u001b[38;5;124m'\u001b[39m], \u001b[38;5;124m'\u001b[39m\u001b[38;5;124mMachine Learning\u001b[39m\u001b[38;5;124m'\u001b[39m]\n\u001b[0;32m---> 12\u001b[0m x \u001b[38;5;241m=\u001b[39m \u001b[43mlist1\u001b[49m\u001b[38;5;241;43m.\u001b[39;49m\u001b[43mvalues\u001b[49m()\n\u001b[1;32m     13\u001b[0m \u001b[38;5;28mprint\u001b[39m(x)\n",
      "\u001b[0;31mAttributeError\u001b[0m: 'list' object has no attribute 'values'"
     ]
    }
   ],
   "source": [
    "#  Q1. Create a function which will take a list as an argument and return the product of all the numbers\n",
    "#  after creating a flat list.\n",
    "#  Use the below-given list as an argument for your function.\n",
    "#  list1 = [1,2,3,4, [44,55,66, True], False, (34,56,78,89,34), {1,2,3,3,2,1}, {1:34, \"key2\": [55, 67, 78, 89], 4: (45,\n",
    "#  22, 61, 34)}, [56, 'data science'], 'Machine Learning']\n",
    "\n",
    "\n",
    "\n",
    "list1 = [1,2,3,4, [44,55,66, True], False, (34,56,78,89,34), {1,2,3,3,2,1}, {1:34, \"key2\": [55, 67, 78, 89], 4: (45,\n",
    "22, 61, 34)}, [56, 'data science'], 'Machine Learning']\n",
    "\n",
    "x = list1.values()\n",
    "print(x)\n"
   ]
  },
  {
   "cell_type": "code",
   "execution_count": 12,
   "id": "0952b355-8c9b-4185-9135-39bf5d6c176f",
   "metadata": {},
   "outputs": [],
   "source": [
    "#  Q2. Write a python program for encrypting a message sent to you by your friend. The logic of encryption\n",
    "#  should be such that, for a the output should be z. For b, the output should be y. For c, the output should\n",
    "#  be x respectively. Also, the whitespace should be replaced with a dollar sign. Keep the punctuation\n",
    "#  marks unchanged.\n",
    "#  Input Sentence: I want to become a Data Scientist.\n",
    "#  Encrypt the above input sentence using the program you just created.\n",
    "#  Note: Convert the given input sentence into lowercase before encrypting. The final output should be\n",
    "#  lowercase.\n",
    "\n"
   ]
  },
  {
   "cell_type": "code",
   "execution_count": null,
   "id": "715e7aa3-1023-49bc-8ce3-2716383ac999",
   "metadata": {},
   "outputs": [],
   "source": []
  },
  {
   "cell_type": "code",
   "execution_count": null,
   "id": "8e153a33-7c6d-4f10-9a36-1be615713562",
   "metadata": {},
   "outputs": [],
   "source": []
  }
 ],
 "metadata": {
  "kernelspec": {
   "display_name": "Python 3 (ipykernel)",
   "language": "python",
   "name": "python3"
  },
  "language_info": {
   "codemirror_mode": {
    "name": "ipython",
    "version": 3
   },
   "file_extension": ".py",
   "mimetype": "text/x-python",
   "name": "python",
   "nbconvert_exporter": "python",
   "pygments_lexer": "ipython3",
   "version": "3.10.8"
  }
 },
 "nbformat": 4,
 "nbformat_minor": 5
}
